{
 "cells": [
  {
   "cell_type": "code",
   "execution_count": 1,
   "id": "6e737b26",
   "metadata": {},
   "outputs": [],
   "source": [
    "import tensorflow as tf\n",
    "from tensorflow import keras\n",
    "import matplotlib.pyplot as plt\n",
    "import numpy as np\n",
    "from keras.losses import SparseCategoricalCrossentropy"
   ]
  },
  {
   "cell_type": "code",
   "execution_count": 2,
   "id": "5a9eb76d",
   "metadata": {},
   "outputs": [],
   "source": [
    "#downloading the dataset from keras\n",
    "(x_train,y_train), (x_test,y_test)=keras.datasets.mnist.load_data()"
   ]
  },
  {
   "cell_type": "code",
   "execution_count": 3,
   "id": "bbd8cdca",
   "metadata": {},
   "outputs": [
    {
     "data": {
      "text/plain": [
       "<matplotlib.image.AxesImage at 0x223f424b010>"
      ]
     },
     "execution_count": 3,
     "metadata": {},
     "output_type": "execute_result"
    },
    {
     "data": {
      "image/png": "[encoded data removed]",
      "text/plain": [
       "<Figure size 480x480 with 1 Axes>"
      ]
     },
     "metadata": {},
     "output_type": "display_data"
    }
   ],
   "source": [
    "plt.matshow(x_train[0])"
   ]
  },
  {
   "cell_type": "code",
   "execution_count": 4,
   "id": "2ea946d1",
   "metadata": {},
   "outputs": [],
   "source": [
    "#flattening the 28 by 28 pixels to 1 dimension\n",
    "x_train_flat=x_train.reshape(len(x_train), 28*28)"
   ]
  },
  {
   "cell_type": "code",
   "execution_count": 5,
   "id": "0948e792",
   "metadata": {},
   "outputs": [],
   "source": [
    "#testing whether it has flattened\n",
    "x_test_flat=x_test.reshape(len(x_test), 784)"
   ]
  },
  {
   "cell_type": "code",
   "execution_count": 6,
   "id": "a012f86e",
   "metadata": {},
   "outputs": [],
   "source": [
    "#feature scaling\n",
    "x_train_flat=x_train_flat/255\n",
    "x_test=x_test/255"
   ]
  },
  {
   "cell_type": "code",
   "execution_count": 7,
   "id": "bee90344",
   "metadata": {},
   "outputs": [
    {
     "name": "stdout",
     "output_type": "stream",
     "text": [
      "Epoch 1/10\n",
      "1875/1875 [==============================] - 8s 4ms/step - loss: 0.2209 - accuracy: 0.9344\n",
      "Epoch 2/10\n",
      "1875/1875 [==============================] - 7s 4ms/step - loss: 0.0925 - accuracy: 0.9713\n",
      "Epoch 3/10\n",
      "1875/1875 [==============================] - 7s 4ms/step - loss: 0.0634 - accuracy: 0.9796\n",
      "Epoch 4/10\n",
      "1875/1875 [==============================] - 7s 4ms/step - loss: 0.0491 - accuracy: 0.9843\n",
      "Epoch 5/10\n",
      "1875/1875 [==============================] - 7s 4ms/step - loss: 0.0361 - accuracy: 0.9883\n",
      "Epoch 6/10\n",
      "1875/1875 [==============================] - 7s 4ms/step - loss: 0.0307 - accuracy: 0.9899\n",
      "Epoch 7/10\n",
      "1875/1875 [==============================] - 7s 4ms/step - loss: 0.0249 - accuracy: 0.9918\n",
      "Epoch 8/10\n",
      "1875/1875 [==============================] - 7s 4ms/step - loss: 0.0232 - accuracy: 0.9926\n",
      "Epoch 9/10\n",
      "1875/1875 [==============================] - 7s 4ms/step - loss: 0.0186 - accuracy: 0.9937\n",
      "Epoch 10/10\n",
      "1875/1875 [==============================] - 7s 4ms/step - loss: 0.0184 - accuracy: 0.9941\n"
     ]
    },
    {
     "data": {
      "text/plain": [
       "<keras.src.callbacks.History at 0x223f42be150>"
      ]
     },
     "execution_count": 7,
     "metadata": {},
     "output_type": "execute_result"
    }
   ],
   "source": [
    "#creating the model using softmax and logits \n",
    "model=keras.Sequential([\n",
    "    keras.layers.Dense(180, input_shape=(784,), activation='relu'),\n",
    "    keras.layers.Dense(100, activation='relu'),\n",
    "    keras.layers.Dense(10, activation='linear'),\n",
    "])\n",
    "\n",
    "model.compile(\n",
    "    optimizer='adam',\n",
    "    loss=SparseCategoricalCrossentropy(from_logits=True),\n",
    "    metrics=['accuracy']\n",
    ")\n",
    "\n",
    "model.fit(x_train_flat, y_train, epochs=10)"
   ]
  },
  {
   "cell_type": "code",
   "execution_count": 8,
   "id": "01cffa05",
   "metadata": {},
   "outputs": [],
   "source": [
    "logits = model(x_train_flat)\n",
    "f_x=tf.nn.softmax(logits)"
   ]
  },
  {
   "cell_type": "code",
   "execution_count": 9,
   "id": "6ab507cd",
   "metadata": {},
   "outputs": [
    {
     "name": "stdout",
     "output_type": "stream",
     "text": [
      "313/313 [==============================] - 1s 2ms/step - loss: 25.2672 - accuracy: 0.9757\n"
     ]
    },
    {
     "data": {
      "text/plain": [
       "[25.267244338989258, 0.9757000207901001]"
      ]
     },
     "execution_count": 9,
     "metadata": {},
     "output_type": "execute_result"
    }
   ],
   "source": [
    "#testing the models accuracy\n",
    "model.evaluate(x_test_flat,y_test)"
   ]
  },
  {
   "cell_type": "code",
   "execution_count": 10,
   "id": "6b4fab1a",
   "metadata": {},
   "outputs": [],
   "source": [
    "import csv"
   ]
  },
  {
   "cell_type": "code",
   "execution_count": 11,
   "id": "50959817",
   "metadata": {},
   "outputs": [],
   "source": [
    "#downloading an external dataset to test for overfitting\n",
    "with open(r\"./image_data_training.csv\" , mode='r') as file:\n",
    "    csvf=csv.reader(file)\n",
    "    inp=[]\n",
    "    ans=[]\n",
    "    for line in csvf:\n",
    "        jk=[]\n",
    "        for i in range(2, 786):\n",
    "            jk.append(int(line[i]))\n",
    "        inp.append(jk)\n",
    "        if line[-1]!='class':\n",
    "            ans.append(int(line[-1]))\n",
    "        \n",
    "        "
   ]
  },
  {
   "cell_type": "code",
   "execution_count": 12,
   "id": "576b47fb",
   "metadata": {},
   "outputs": [],
   "source": [
    "r_in=inp[1::]\n",
    "r_ans=ans"
   ]
  },
  {
   "cell_type": "code",
   "execution_count": 13,
   "id": "ac62228e",
   "metadata": {},
   "outputs": [],
   "source": [
    "#tranforming the dataset to be able to measure its accuracy \n",
    "real_inp=np.array(r_in)\n",
    "real_out=np.array(r_ans)"
   ]
  },
  {
   "cell_type": "code",
   "execution_count": 14,
   "id": "626b62ea",
   "metadata": {},
   "outputs": [
    {
     "name": "stdout",
     "output_type": "stream",
     "text": [
      "1876/1876 [==============================] - 5s 3ms/step - loss: 3.6324 - accuracy: 0.9929\n"
     ]
    },
    {
     "data": {
      "text/plain": [
       "[3.6324195861816406, 0.9929012060165405]"
      ]
     },
     "execution_count": 14,
     "metadata": {},
     "output_type": "execute_result"
    }
   ],
   "source": [
    "model.evaluate(real_inp, real_out)"
   ]
  },
  {
   "cell_type": "code",
   "execution_count": 15,
   "id": "17e923ae",
   "metadata": {},
   "outputs": [
    {
     "data": {
      "text/plain": [
       "<matplotlib.image.AxesImage at 0x223993dbc50>"
      ]
     },
     "execution_count": 15,
     "metadata": {},
     "output_type": "execute_result"
    },
    {
     "data": {
      "image/png": "[encoded data removed]",
      "text/plain": [
       "<Figure size 480x480 with 1 Axes>"
      ]
     },
     "metadata": {},
     "output_type": "display_data"
    }
   ],
   "source": [
    "r_check=np.reshape(real_inp[0],(-1,28))\n",
    "plt.matshow(r_check)"
   ]
  },
  {
   "cell_type": "code",
   "execution_count": 16,
   "id": "eec5675e",
   "metadata": {},
   "outputs": [
    {
     "name": "stdout",
     "output_type": "stream",
     "text": [
      "1/1 [==============================] - 0s 119ms/step\n"
     ]
    },
    {
     "data": {
      "text/plain": [
       "0"
      ]
     },
     "execution_count": 16,
     "metadata": {},
     "output_type": "execute_result"
    }
   ],
   "source": [
    "#testing with visual input\n",
    "r_test=np.reshape(real_inp[0], (-1,784))\n",
    "r_test.shape\n",
    "y_predict=model.predict(r_test)\n",
    "np.argmax(y_predict)"
   ]
  }
 ],
 "metadata": {
  "kernelspec": {
   "display_name": "Python 3 (ipykernel)",
   "language": "python",
   "name": "python3"
  },
  "language_info": {
   "codemirror_mode": {
    "name": "ipython",
    "version": 3
   },
   "file_extension": ".py",
   "mimetype": "text/x-python",
   "name": "python",
   "nbconvert_exporter": "python",
   "pygments_lexer": "ipython3",
   "version": "3.11.3"
  }
 },
 "nbformat": 4,
 "nbformat_minor": 5
}
